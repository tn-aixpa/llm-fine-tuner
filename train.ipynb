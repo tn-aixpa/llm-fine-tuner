{
 "cells": [
  {
   "cell_type": "code",
   "execution_count": 1,
   "id": "7d659b4d-1b64-4489-9f90-25304df121eb",
   "metadata": {},
   "outputs": [],
   "source": [
    "import  digitalhub as dh"
   ]
  },
  {
   "cell_type": "code",
   "execution_count": 2,
   "id": "0fce5753-df3b-4a7b-8a2a-f992e76c81dd",
   "metadata": {},
   "outputs": [],
   "source": [
    "project = dh.get_or_create_project(\"finetune\")"
   ]
  },
  {
   "cell_type": "code",
   "execution_count": 5,
   "id": "cd6cc676-8567-4b8b-891d-1b0004184c7b",
   "metadata": {},
   "outputs": [],
   "source": [
    "func = project.new_function(\n",
    "    name=\"train-llm\", \n",
    "    kind=\"python\", \n",
    "    python_version=\"PYTHON3_10\", \n",
    "    code_src=\"src/Llama_sft_training.py\",  #src/train.py \n",
    "    handler=\"train_and_log_model\", #train\n",
    "    requirements=[\"pandas==2.1.4\", \"tqdm==4.66.5\", \"openai==1.8.0\", \"spacy==3.7.5\", \"torch==2.5.1\", \"llama-index==0.9.33\", \"huggingface-hub==0.27.1\", \"rank-bm25==0.2.2\", \"sentence-transformers==4.1.0\", \"ranx==0.3.20\", \"transformers==4.48.0\", \"openpyxl==3.1.5\", \"rouge-score==0.1.2\", \"FlagEmbedding==1.3.4\", \"wandb==0.19.11\", \"nltk==3.8.1\", \"trl==0.13\", \"bitsandbytes==0.45.5\", \"datasets==3.6.0\"]\n",
    ")"
   ]
  },
  {
   "cell_type": "code",
   "execution_count": 8,
   "id": "a0b72430-af10-4c1e-9e9c-9449b2a6b276",
   "metadata": {},
   "outputs": [],
   "source": [
    "train_run = func.run(action=\"job\",\n",
    "                     profile=\"1xa100\",\n",
    "                     parameters={\n",
    "                         \"model_id\": \"Llama-3.1-8B\",\n",
    "                         \"hf_dataset_name\": \"LanD-FBK/AIxPA_Dialogue_Dataset\",\n",
    "                         \"train_data_path\": \"data_AmiciFamiglia_only_ground/train.json\",\n",
    "                         \"dev_data_path\": \"data_AmiciFamiglia_only_ground/validation.json\"\n",
    "                     },\n",
    "                     volumes=[{ \n",
    "                         \"volume_type\": \"persistent_volume_claim\", \n",
    "                         \"name\": \"volume-finetune\", \n",
    "                         \"mount_path\": \"/local_data\", \n",
    "                         \"spec\": { \"size\": \"10Gi\" }}]\n",
    "\t\t\t\t\t)"
   ]
  }
 ],
 "metadata": {
  "kernelspec": {
   "display_name": "Python 3 (ipykernel)",
   "language": "python",
   "name": "python3"
  },
  "language_info": {
   "codemirror_mode": {
    "name": "ipython",
    "version": 3
   },
   "file_extension": ".py",
   "mimetype": "text/x-python",
   "name": "python",
   "nbconvert_exporter": "python",
   "pygments_lexer": "ipython3",
   "version": "3.10.11"
  }
 },
 "nbformat": 4,
 "nbformat_minor": 5
}
