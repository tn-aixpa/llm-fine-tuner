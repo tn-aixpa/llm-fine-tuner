{
 "cells": [
  {
   "cell_type": "code",
   "execution_count": 1,
   "id": "7d659b4d-1b64-4489-9f90-25304df121eb",
   "metadata": {},
   "outputs": [],
   "source": [
    "import  digitalhub as dh"
   ]
  },
  {
   "cell_type": "code",
   "execution_count": 2,
   "id": "0fce5753-df3b-4a7b-8a2a-f992e76c81dd",
   "metadata": {},
   "outputs": [],
   "source": [
    "project = dh.get_or_create_project(\"finetune\")"
   ]
  },
  {
   "cell_type": "code",
   "execution_count": null,
   "id": "cd6cc676-8567-4b8b-891d-1b0004184c7b",
   "metadata": {},
   "outputs": [],
   "source": []
  }
 ],
 "metadata": {
  "kernelspec": {
   "display_name": "Python 3 (ipykernel)",
   "language": "python",
   "name": "python3"
  },
  "language_info": {
   "codemirror_mode": {
    "name": "ipython",
    "version": 3
   },
   "file_extension": ".py",
   "mimetype": "text/x-python",
   "name": "python",
   "nbconvert_exporter": "python",
   "pygments_lexer": "ipython3",
   "version": "3.10.11"
  }
 },
 "nbformat": 4,
 "nbformat_minor": 5
}
